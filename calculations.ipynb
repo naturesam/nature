{
 "cells": [
  {
   "cell_type": "code",
   "execution_count": 2,
   "metadata": {},
   "outputs": [
    {
     "name": "stdout",
     "output_type": "stream",
     "text": [
      "54 + 18 = 72\n",
      "40 + 74 = 114\n",
      "44 + 26 = 70\n",
      "21 + 41 = 62\n",
      "49 + 96 = 145\n",
      "The time you used in answering five questions is 79 seconds and your score is 25\n"
     ]
    }
   ],
   "source": [
    "import random\n",
    "import datetime\n",
    "scorelist = []\n",
    "timelist = []\n",
    "counter = 1\n",
    "\n",
    "\n",
    "\n",
    "while counter <=5:\n",
    "    num1 = random.randint(10,99)\n",
    "    num2 = random.randint(10,99)\n",
    "    start = datetime.datetime.now()\n",
    "    answer = int(input(f'{num1} + {num2} = '))\n",
    "    stop = datetime.datetime.now()\n",
    "    \n",
    "    \n",
    "    if answer == sum([num1,num2]):\n",
    "        scorelist.append(5)\n",
    "    else:\n",
    "        scorelist.append(0)\n",
    "    diff = stop - start\n",
    "    timelist.append(diff.seconds)\n",
    "    counter +=1\n",
    "totalscore = sum(scorelist)\n",
    "totaltime = sum(timelist)\n",
    "print(f'The time you used in answering five questions is {totaltime} seconds and your score is {totalscore}')"
   ]
  }
 ],
 "metadata": {
  "kernelspec": {
   "display_name": "Python 3",
   "language": "python",
   "name": "python3"
  },
  "language_info": {
   "codemirror_mode": {
    "name": "ipython",
    "version": 3
   },
   "file_extension": ".py",
   "mimetype": "text/x-python",
   "name": "python",
   "nbconvert_exporter": "python",
   "pygments_lexer": "ipython3",
   "version": "3.8.3"
  }
 },
 "nbformat": 4,
 "nbformat_minor": 4
}
